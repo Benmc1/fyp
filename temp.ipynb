{
 "cells": [
  {
   "cell_type": "code",
   "execution_count": 1,
   "metadata": {},
   "outputs": [],
   "source": [
    "import json\n",
    "\n",
    "def save_multiple_qa_to_jsonl(qa_list, filepath):\n",
    "    \"\"\"\n",
    "    Save multiple question-answer pairs into a JSONL file at once.\n",
    "    \n",
    "    Args:\n",
    "        qa_list (list of dicts): Each dict must have 'question' and 'answer' keys.\n",
    "        filepath (str): Path to the .jsonl file.\n",
    "    \"\"\"\n",
    "    with open(filepath, 'a', encoding='utf-8') as f:\n",
    "        for qa in qa_list:\n",
    "            json_line = json.dumps(qa, ensure_ascii=False)\n",
    "            f.write(json_line + '\\n')\n"
   ]
  },
  {
   "cell_type": "code",
   "execution_count": 8,
   "metadata": {},
   "outputs": [],
   "source": [
    "import pandas as pd\n",
    "\n",
    "def csv_to_jsonl(csv_path, jsonl_path):\n",
    "    df = pd.read_csv(csv_path)\n",
    "    qa_list = df.to_dict(orient='records')\n",
    "    save_multiple_qa_to_jsonl(qa_list, jsonl_path)\n",
    "\n",
    "# Example:\n",
    "csv_to_jsonl(\"data.csv\", \"training_dataset.jsonl\")\n"
   ]
  },
  {
   "cell_type": "code",
   "execution_count": null,
   "metadata": {},
   "outputs": [],
   "source": [
    "import json\n",
    "\n",
    "def save_qa_to_jsonl(question, answer, filepath):\n",
    "    \"\"\"\n",
    "    Save a question-answer pair into a JSONL file, preserving formatting.\n",
    "    \n",
    "    Args:\n",
    "        question (str): The natural language question or prompt.\n",
    "        answer (str): The code snippet (answer).\n",
    "        filepath (str): Path to the .jsonl file.\n",
    "    \"\"\"\n",
    "    data = {\n",
    "        \"question\": question,\n",
    "        \"answer\": answer\n",
    "    }\n",
    "    \n",
    "    with open(filepath, 'a', encoding='utf-8') as f:\n",
    "        json_line = json.dumps(data, ensure_ascii=False)\n",
    "        f.write(json_line + '\\n')\n",
    "\n",
    "# Example usage:\n",
    "if __name__ == \"__main__\":\n",
    "    q = \"\"\"How do you allow any logged-in user to read global configuration in Rego?\"\"\"\n",
    "    a = \"\"\"team_role(subject, team_id) = role {\n",
    "\tsubject_team := subject.teams[_]\n",
    "\tsubject_team.id == team_id\n",
    "\trole := subject_team.role\n",
    "}\"\"\"\n",
    "    \n",
    "    save_qa_to_jsonl(q, a, \"training_dataset.jsonl\")\n"
   ]
  },
  {
   "cell_type": "code",
   "execution_count": 9,
   "metadata": {},
   "outputs": [
    {
     "name": "stdout",
     "output_type": "stream",
     "text": [
      "package rego.example\n",
      "\n",
      "import input.connection\n",
      "\n",
      "deny[msg] {\n",
      "  connection.protocol == \"telnet\"\n",
      "  msg := \"Telnet is not allowed\"\n",
      "}\n"
     ]
    }
   ],
   "source": [
    "import requests\n",
    "\n",
    "url = \"https://7708-35-184-143-188.ngrok-free.app/ask\"\n",
    "payload = {\"question\": \"Servers are not allowed to expose the 'telnet' protocol\"}\n",
    "\n",
    "response = requests.post(url, json=payload)\n",
    "\n",
    "print(response.json())\n"
   ]
  },
  {
   "cell_type": "markdown",
   "metadata": {},
   "source": []
  },
  {
   "cell_type": "code",
   "execution_count": null,
   "metadata": {},
   "outputs": [],
   "source": [
    "{'response': '[INST] Write in Rego Servers are not allowed to expose the \\'telnet\\' protocol[/INST] Code:\\n        # Rule to prevent exposing telnet protocol\\n        telnet_exposed {\\n          # Check if the telnet protocol is exposed\\n          # on any port\\n          some port : Port {\\n            protocol == \"tcp\"\\n            port == 23\\n          }\\n        }\\n\\n        # Rule to report a violation if telnet is exposed\\n        violation {\\n          telnet_exposed\\n        }\\n\\n        # Rule to report a violation if telnet is exposed on any port\\n        violation {\\n          some port : Port {\\n            telnet_exposed\\n          }\\n        }\\n\\n        # Rule to report a violation if telnet is exposed on a specific port\\n        violation {\\n          some port : Port {\\n            protocol == \"tcp\"\\n            port == 23\\n          }\\n        }\\n\\n        # Rule to report a violation if telnet is exposed on a specific port range\\n        violation {\\n          some port : Port {\\n            protocol == \"tcp\"\\n            port == range(23, 23)\\n          }\\n        }\\n\\n        # Rule to report a violation if telnet is exposed on a specific port range\\n        violation {\\n          some port : Port {\\n            protocol == \"tcp\"\\n            port == range(23, 23)\\n          }'}"
   ]
  }
 ],
 "metadata": {
  "kernelspec": {
   "display_name": "Python 3",
   "language": "python",
   "name": "python3"
  },
  "language_info": {
   "codemirror_mode": {
    "name": "ipython",
    "version": 3
   },
   "file_extension": ".py",
   "mimetype": "text/x-python",
   "name": "python",
   "nbconvert_exporter": "python",
   "pygments_lexer": "ipython3",
   "version": "3.13.3"
  }
 },
 "nbformat": 4,
 "nbformat_minor": 2
}
