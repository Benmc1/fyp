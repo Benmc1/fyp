{
 "cells": [
  {
   "cell_type": "code",
   "execution_count": 1,
   "metadata": {},
   "outputs": [],
   "source": [
    "import json\n",
    "\n",
    "def save_multiple_qa_to_jsonl(qa_list, filepath):\n",
    "    \"\"\"\n",
    "    Save multiple question-answer pairs into a JSONL file at once.\n",
    "    \n",
    "    Args:\n",
    "        qa_list (list of dicts): Each dict must have 'question' and 'answer' keys.\n",
    "        filepath (str): Path to the .jsonl file.\n",
    "    \"\"\"\n",
    "    with open(filepath, 'a', encoding='utf-8') as f:\n",
    "        for qa in qa_list:\n",
    "            json_line = json.dumps(qa, ensure_ascii=False)\n",
    "            f.write(json_line + '\\n')\n"
   ]
  },
  {
   "cell_type": "code",
   "execution_count": 8,
   "metadata": {},
   "outputs": [],
   "source": [
    "import pandas as pd\n",
    "\n",
    "def csv_to_jsonl(csv_path, jsonl_path):\n",
    "    df = pd.read_csv(csv_path)\n",
    "    qa_list = df.to_dict(orient='records')\n",
    "    save_multiple_qa_to_jsonl(qa_list, jsonl_path)\n",
    "\n",
    "# Example:\n",
    "csv_to_jsonl(\"data.csv\", \"training_dataset.jsonl\")\n"
   ]
  },
  {
   "cell_type": "code",
   "execution_count": null,
   "metadata": {},
   "outputs": [],
   "source": [
    "import json\n",
    "\n",
    "def save_qa_to_jsonl(question, answer, filepath):\n",
    "    \"\"\"\n",
    "    Save a question-answer pair into a JSONL file, preserving formatting.\n",
    "    \n",
    "    Args:\n",
    "        question (str): The natural language question or prompt.\n",
    "        answer (str): The code snippet (answer).\n",
    "        filepath (str): Path to the .jsonl file.\n",
    "    \"\"\"\n",
    "    data = {\n",
    "        \"question\": question,\n",
    "        \"answer\": answer\n",
    "    }\n",
    "    \n",
    "    with open(filepath, 'a', encoding='utf-8') as f:\n",
    "        json_line = json.dumps(data, ensure_ascii=False)\n",
    "        f.write(json_line + '\\n')\n",
    "\n",
    "# Example usage:\n",
    "if __name__ == \"__main__\":\n",
    "    q = \"\"\"How do you allow any logged-in user to read global configuration in Rego?\"\"\"\n",
    "    a = \"\"\"team_role(subject, team_id) = role {\n",
    "\tsubject_team := subject.teams[_]\n",
    "\tsubject_team.id == team_id\n",
    "\trole := subject_team.role\n",
    "}\"\"\"\n",
    "    \n",
    "    save_qa_to_jsonl(q, a, \"training_dataset.jsonl\")\n"
   ]
  },
  {
   "cell_type": "code",
   "execution_count": null,
   "metadata": {},
   "outputs": [
    {
     "name": "stdout",
     "output_type": "stream",
     "text": [
      "{\"question\": \"Servers are not allowed to expose the 'telnet' protocol\"}\n"
     ]
    }
   ],
   "source": [
    "import requests\n",
    "import json\n",
    "\n",
    "ITM_url = \"https://7708-35-184-143-188.ngrok-free.app/ask\"\n",
    "payload = {\"question\": \"Servers are not allowed to expose the 'telnet' protocol\"}\n",
    "policyresponse = requests.post(ITM_url, json=payload)\n",
    "\n",
    "opa_check_url = \"http://fyp-opa-1:8181/v1/polices/\" + str(random.randint(1000, 9999))\n",
    "response = requests.put(url=opa_check_url, data=policyresponse, timeout=5)\n",
    "\n"
   ]
  },
  {
   "cell_type": "code",
   "execution_count": null,
   "metadata": {},
   "outputs": [],
   "source": [
    "import requests\n",
    "import json\n",
    "import random\n",
    "\n",
    "ITM_url = \"https://41d1-34-126-86-180.ngrok-free.app/ask\"\n",
    "opa_url_base = \"http://localhost:8181/v1/polices/\"\n",
    "success_count = 0\n",
    "\n",
    "# Read test inputs\n",
    "with open(\"testing_data.txt\", \"r\") as f:\n",
    "    questions = [line.strip() for line in f if line.strip()]\n",
    "\n",
    "policy_id = 1000\n",
    "\n",
    "for question in questions:\n",
    "    payload = {\"question\": question}\n",
    "\n",
    "    try:\n",
    "        # Get the generated policy\n",
    "        policy_response = requests.post(ITM_url, json=payload)\n",
    "        policy_response.raise_for_status()\n",
    "\n",
    "        # Create a unique OPA policy name\n",
    "        opa_check_url = opa_url_base + str(policy_id)\n",
    "\n",
    "        # Submit to OPA\n",
    "        response = requests.put(url=opa_check_url, data=policy_response, timeout=5)\n",
    "\n",
    "        if response.status_code == 200:\n",
    "            success_count += 1\n",
    "        else:\n",
    "            print(f\"OPA error {response.status_code}: {response.text}\")\n",
    "\n",
    "    except Exception as e:\n",
    "        print(f\"Error with question '{question}': {e}\")\n",
    "\n",
    "    policy_id += 1\n",
    "\n",
    "print(f\"\\n Total numbers of valid responses : {success_count}\")"
   ]
  }
 ],
 "metadata": {
  "kernelspec": {
   "display_name": "Python 3",
   "language": "python",
   "name": "python3"
  },
  "language_info": {
   "codemirror_mode": {
    "name": "ipython",
    "version": 3
   },
   "file_extension": ".py",
   "mimetype": "text/x-python",
   "name": "python",
   "nbconvert_exporter": "python",
   "pygments_lexer": "ipython3",
   "version": "3.13.3"
  }
 },
 "nbformat": 4,
 "nbformat_minor": 2
}
