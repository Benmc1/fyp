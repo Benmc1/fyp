{
 "cells": [
  {
   "cell_type": "code",
   "execution_count": 1,
   "metadata": {},
   "outputs": [],
   "source": [
    "import json\n",
    "\n",
    "def save_multiple_qa_to_jsonl(qa_list, filepath):\n",
    "    \"\"\"\n",
    "    Save multiple question-answer pairs into a JSONL file at once.\n",
    "    \n",
    "    Args:\n",
    "        qa_list (list of dicts): Each dict must have 'question' and 'answer' keys.\n",
    "        filepath (str): Path to the .jsonl file.\n",
    "    \"\"\"\n",
    "    with open(filepath, 'a', encoding='utf-8') as f:\n",
    "        for qa in qa_list:\n",
    "            json_line = json.dumps(qa, ensure_ascii=False)\n",
    "            f.write(json_line + '\\n')\n"
   ]
  },
  {
   "cell_type": "code",
   "execution_count": 8,
   "metadata": {},
   "outputs": [],
   "source": [
    "import pandas as pd\n",
    "\n",
    "def csv_to_jsonl(csv_path, jsonl_path):\n",
    "    df = pd.read_csv(csv_path)\n",
    "    qa_list = df.to_dict(orient='records')\n",
    "    save_multiple_qa_to_jsonl(qa_list, jsonl_path)\n",
    "\n",
    "# Example:\n",
    "csv_to_jsonl(\"data.csv\", \"training_dataset.jsonl\")\n"
   ]
  },
  {
   "cell_type": "code",
   "execution_count": 6,
   "metadata": {},
   "outputs": [],
   "source": [
    "import json\n",
    "\n",
    "def save_qa_to_jsonl(question, answer, filepath):\n",
    "    \"\"\"\n",
    "    Save a question-answer pair into a JSONL file, preserving formatting.\n",
    "    \n",
    "    Args:\n",
    "        question (str): The natural language question or prompt.\n",
    "        answer (str): The code snippet (answer).\n",
    "        filepath (str): Path to the .jsonl file.\n",
    "    \"\"\"\n",
    "    data = {\n",
    "        \"question\": question,\n",
    "        \"answer\": answer\n",
    "    }\n",
    "    \n",
    "    with open(filepath, 'a', encoding='utf-8') as f:\n",
    "        json_line = json.dumps(data, ensure_ascii=False)\n",
    "        f.write(json_line + '\\n')\n",
    "\n",
    "# Example usage:\n",
    "if __name__ == \"__main__\":\n",
    "    q = \"\"\"check if variable x is a set containing \"foo\" and \"bar\"\"\"\n",
    "    a = \"\"\"x == {\"foo\", \"bar\"}\"\"\"\n",
    "    \n",
    "    save_qa_to_jsonl(q, a, \"training_dataset.jsonl\")\n"
   ]
  },
  {
   "cell_type": "code",
   "execution_count": null,
   "metadata": {},
   "outputs": [],
   "source": []
  }
 ],
 "metadata": {
  "kernelspec": {
   "display_name": "base",
   "language": "python",
   "name": "python3"
  },
  "language_info": {
   "codemirror_mode": {
    "name": "ipython",
    "version": 3
   },
   "file_extension": ".py",
   "mimetype": "text/x-python",
   "name": "python",
   "nbconvert_exporter": "python",
   "pygments_lexer": "ipython3",
   "version": "3.12.7"
  }
 },
 "nbformat": 4,
 "nbformat_minor": 2
}
